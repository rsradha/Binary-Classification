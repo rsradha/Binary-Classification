{
  "nbformat": 4,
  "nbformat_minor": 0,
  "metadata": {
    "colab": {
      "name": "image-conversion.ipynb",
      "provenance": [],
      "collapsed_sections": [],
      "authorship_tag": "ABX9TyP2V9zc2VbkaxdZ6IIzaFMb",
      "include_colab_link": true
    },
    "kernelspec": {
      "name": "python3",
      "display_name": "Python 3"
    },
    "accelerator": "GPU"
  },
  "cells": [
    {
      "cell_type": "markdown",
      "metadata": {
        "id": "view-in-github",
        "colab_type": "text"
      },
      "source": [
        "<a href=\"https://colab.research.google.com/github/rsradha/Binary-Classification/blob/master/image_conversion.ipynb\" target=\"_parent\"><img src=\"https://colab.research.google.com/assets/colab-badge.svg\" alt=\"Open In Colab\"/></a>"
      ]
    },
    {
      "cell_type": "code",
      "metadata": {
        "id": "NSUIdJ-XtYa-",
        "colab_type": "code",
        "colab": {}
      },
      "source": [
        "import os\n",
        "from PIL import Image"
      ],
      "execution_count": 0,
      "outputs": []
    },
    {
      "cell_type": "code",
      "metadata": {
        "id": "3m8NLd-LtqXP",
        "colab_type": "code",
        "colab": {}
      },
      "source": [
        "input_path = '/content/data/malignant/'\n",
        "#/contentdata/normal/\n",
        "for root, dirs, files in os.walk(input_path, topdown=False):\n",
        "    for name in files:\n",
        "        print(os.path.join(root, name))\n",
        "        if os.path.splitext(os.path.join(root, name))[1].lower() == \".bmp\":\n",
        "            if os.path.isfile(os.path.splitext(os.path.join(root, name))[0] + \".jpg\"):\n",
        "                print (\"A jpeg file already exists for %s\" % name)\n",
        "            \n",
        "            else:\n",
        "                outfile = os.path.splitext(os.path.join(root, name))[0] + \".jpg\"\n",
        "                \n",
        "                im = Image.open(os.path.join(root, name))\n",
        "                print (\"Generating jpeg for %s\" % name)\n",
        "                im.thumbnail(im.size)\n",
        "                im.save(outfile, \"JPEG\", quality=100)\n"
      ],
      "execution_count": 0,
      "outputs": []
    },
    {
      "cell_type": "code",
      "metadata": {
        "id": "vA3QAaQEy2Vt",
        "colab_type": "code",
        "outputId": "188cbc5e-82f2-4bf2-b40f-3e8f6a8af989",
        "colab": {
          "base_uri": "https://localhost:8080/",
          "height": 130
        }
      },
      "source": [
        "\n",
        "\n",
        "git remote add origin https://github.com/rsradha/Binary-Classification.git\n",
        "git push -u origin master"
      ],
      "execution_count": 0,
      "outputs": [
        {
          "output_type": "error",
          "ename": "SyntaxError",
          "evalue": "ignored",
          "traceback": [
            "\u001b[0;36m  File \u001b[0;32m\"<ipython-input-1-81d2ab14dcad>\"\u001b[0;36m, line \u001b[0;32m3\u001b[0m\n\u001b[0;31m    git remote add origin https://github.com/rsradha/Binary-Classification.git\u001b[0m\n\u001b[0m             ^\u001b[0m\n\u001b[0;31mSyntaxError\u001b[0m\u001b[0;31m:\u001b[0m invalid syntax\n"
          ]
        }
      ]
    },
    {
      "cell_type": "code",
      "metadata": {
        "id": "p4axdcIyy-0N",
        "colab_type": "code",
        "colab": {
          "base_uri": "https://localhost:8080/",
          "height": 34
        },
        "outputId": "8db95395-7bda-438c-ee8e-07bc31982c47"
      },
      "source": [
        "!pwd"
      ],
      "execution_count": 2,
      "outputs": [
        {
          "output_type": "stream",
          "text": [
            "/content\n"
          ],
          "name": "stdout"
        }
      ]
    },
    {
      "cell_type": "code",
      "metadata": {
        "id": "qInk6ZdizwSt",
        "colab_type": "code",
        "colab": {}
      },
      "source": [
        ""
      ],
      "execution_count": 0,
      "outputs": []
    }
  ]
}