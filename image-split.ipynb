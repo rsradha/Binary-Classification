{
  "nbformat": 4,
  "nbformat_minor": 0,
  "metadata": {
    "colab": {
      "name": "image-split.ipynb",
      "provenance": [],
      "authorship_tag": "ABX9TyORURWYk0x38RYms+wQpj25",
      "include_colab_link": true
    },
    "kernelspec": {
      "name": "python3",
      "display_name": "Python 3"
    }
  },
  "cells": [
    {
      "cell_type": "markdown",
      "metadata": {
        "id": "view-in-github",
        "colab_type": "text"
      },
      "source": [
        "<a href=\"https://colab.research.google.com/github/rsradha/Binary-Classification/blob/master/image-split.ipynb\" target=\"_parent\"><img src=\"https://colab.research.google.com/assets/colab-badge.svg\" alt=\"Open In Colab\"/></a>"
      ]
    },
    {
      "cell_type": "code",
      "metadata": {
        "id": "6FijkW3aFK90",
        "colab_type": "code",
        "colab": {}
      },
      "source": [
        "import warnings\n",
        "warnings.filterwarnings('always')\n",
        "warnings.filterwarnings('ignore')"
      ],
      "execution_count": 0,
      "outputs": []
    },
    {
      "cell_type": "code",
      "metadata": {
        "id": "xO4y6LbiFTO6",
        "colab_type": "code",
        "colab": {}
      },
      "source": [
        "from keras.preprocessing.image import ImageDataGenerator\n",
        "import glob\n",
        "import math\n",
        "import numpy as np\n",
        "import os\n",
        "import shutil\n",
        "import skimage.io as io\n",
        "import skimage.transform as trans"
      ],
      "execution_count": 0,
      "outputs": []
    },
    {
      "cell_type": "code",
      "metadata": {
        "id": "wq1hD6X7FUfp",
        "colab_type": "code",
        "colab": {}
      },
      "source": [
        "#validation\n",
        "def split_train_val(base_dir, train_img, val_img):\n",
        "    sourceN = base_dir + train_img\n",
        "    destN = base_dir + val_img\n",
        "    filesN = os.listdir(sourceN)\n",
        "    \n",
        "    np.random.seed(42)\n",
        "    for f in filesN:\n",
        "        if np.random.rand(1) < 0.21:\n",
        "            shutil.move(sourceN + '/' + f, destN + '/' + f)\n",
        "    print(len(os.listdir(sourceN)))\n",
        "\n",
        "    print(len(os.listdir(destN)))\n",
        "    tra_num = len(os.listdir(sourceN))\n",
        "    val_num = len(os.listdir(destN))\n",
        "    return tra_num, val_num"
      ],
      "execution_count": 0,
      "outputs": []
    },
    {
      "cell_type": "code",
      "metadata": {
        "id": "_QGM2xdoFeSO",
        "colab_type": "code",
        "colab": {}
      },
      "source": [
        "base_dir = 'data/' \n",
        "train_img = '/train/normal'\n",
        "val_img = '/validation/normal'"
      ],
      "execution_count": 0,
      "outputs": []
    },
    {
      "cell_type": "code",
      "metadata": {
        "id": "QMnMqTPYFjB6",
        "colab_type": "code",
        "colab": {}
      },
      "source": [
        "split_train_val(base_dir, train_img, val_img)"
      ],
      "execution_count": 0,
      "outputs": []
    },
    {
      "cell_type": "code",
      "metadata": {
        "id": "qAXd-tTvFpgY",
        "colab_type": "code",
        "colab": {}
      },
      "source": [
        "base_dir = 'data' \n",
        "train_img = '/train/malignant'\n",
        "val_img = '/validation/malignant'"
      ],
      "execution_count": 0,
      "outputs": []
    },
    {
      "cell_type": "code",
      "metadata": {
        "id": "euofiphQFs0I",
        "colab_type": "code",
        "colab": {}
      },
      "source": [
        "split_train_val(base_dir, train_img, val_img)"
      ],
      "execution_count": 0,
      "outputs": []
    },
    {
      "cell_type": "code",
      "metadata": {
        "id": "LySw6vriFvt0",
        "colab_type": "code",
        "colab": {}
      },
      "source": [
        "#test\n",
        "def split_train_val(base_dir, train_img, val_img):\n",
        "    sourceN = base_dir + train_img\n",
        "    destN = base_dir + val_img\n",
        "    filesN = os.listdir(sourceN)\n",
        "    \n",
        "    np.random.seed(42)\n",
        "    for f in filesN:\n",
        "        if np.random.rand(1) < 0.11:\n",
        "            shutil.move(sourceN + '/' + f, destN + '/' + f)\n",
        "    print(len(os.listdir(sourceN)))\n",
        "\n",
        "    print(len(os.listdir(destN)))\n",
        "    tra_num = len(os.listdir(sourceN))\n",
        "    val_num = len(os.listdir(destN))\n",
        "    return tra_num, val_num\n"
      ],
      "execution_count": 0,
      "outputs": []
    },
    {
      "cell_type": "code",
      "metadata": {
        "id": "AkxLqikDF43o",
        "colab_type": "code",
        "colab": {}
      },
      "source": [
        "base_dir = 'data/' \n",
        "train_img = '/train/normal'\n",
        "test_img = '/test/normal'"
      ],
      "execution_count": 0,
      "outputs": []
    },
    {
      "cell_type": "code",
      "metadata": {
        "id": "IqO1diL2F7jk",
        "colab_type": "code",
        "colab": {}
      },
      "source": [
        "split_train_val(base_dir, train_img, test_img)"
      ],
      "execution_count": 0,
      "outputs": []
    },
    {
      "cell_type": "code",
      "metadata": {
        "id": "uaAy96yTF8Xq",
        "colab_type": "code",
        "colab": {}
      },
      "source": [
        "base_dir = 'data' \n",
        "train_img = '/train/malignant'\n",
        "test_img = '/test/malignant'"
      ],
      "execution_count": 0,
      "outputs": []
    },
    {
      "cell_type": "code",
      "metadata": {
        "id": "xaY_yoG7F-kb",
        "colab_type": "code",
        "colab": {}
      },
      "source": [
        "split_train_val(base_dir, train_img, test_img)"
      ],
      "execution_count": 0,
      "outputs": []
    }
  ]
}