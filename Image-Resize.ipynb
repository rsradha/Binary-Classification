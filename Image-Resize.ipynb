{
 "cells": [
  {
   "cell_type": "code",
   "execution_count": 2,
   "metadata": {},
   "outputs": [
    {
     "name": "stdout",
     "output_type": "stream",
     "text": [
      "Processing UID_H10_116_1_hem.jpg\n",
      "Processing UID_H1_11_1_hem.jpg\n",
      "Processing UID_H1_19_1_hem.jpg\n",
      "Processing UID_H1_22_1_hem.jpg\n",
      "Processing UID_H2_29_2_hem.jpg\n",
      "Processing UID_H2_34_4_hem.jpg\n",
      "Processing UID_H2_35_1_hem.jpg\n",
      "Processing UID_H2_37_2_hem.jpg\n",
      "Processing UID_H2_3_2_hem.jpg\n",
      "Processing UID_H2_6_1_hem.jpg\n",
      "All done\n"
     ]
    }
   ],
   "source": [
    "from PIL import Image\n",
    "#import Image\n",
    "import os\n",
    "import sys\n",
    "\n",
    "in_directory = 'D:\\\\Radhakrishnan\\\\data\\\\test\\\\malignant\\\\'\n",
    "out_directory = 'D:\\\\Radhakrishnan\\\\data-resized-28x28\\\\test\\\\normal\\\\'\n",
    "\n",
    "for file_name in os.listdir(in_directory):\n",
    "  print(\"Processing %s\" % file_name)\n",
    "  image = Image.open(os.path.join(in_directory, file_name))\n",
    "\n",
    "  x,y = image.size\n",
    "  new_dimensions = (28, 28)\n",
    "  output = image.resize(new_dimensions, Image.ANTIALIAS)\n",
    "\n",
    "  output_file_name = os.path.join(out_directory  + file_name)\n",
    "  output.save(output_file_name)\n",
    "\n",
    "print(\"All done\")"
   ]
  },
  {
   "cell_type": "code",
   "execution_count": null,
   "metadata": {},
   "outputs": [],
   "source": []
  },
  {
   "cell_type": "code",
   "execution_count": null,
   "metadata": {},
   "outputs": [],
   "source": []
  }
 ],
 "metadata": {
  "kernelspec": {
   "display_name": "Python 3",
   "language": "python",
   "name": "python3"
  },
  "language_info": {
   "codemirror_mode": {
    "name": "ipython",
    "version": 3
   },
   "file_extension": ".py",
   "mimetype": "text/x-python",
   "name": "python",
   "nbconvert_exporter": "python",
   "pygments_lexer": "ipython3",
   "version": "3.7.3"
  }
 },
 "nbformat": 4,
 "nbformat_minor": 2
}
