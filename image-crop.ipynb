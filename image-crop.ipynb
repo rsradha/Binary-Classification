{
  "nbformat": 4,
  "nbformat_minor": 0,
  "metadata": {
    "colab": {
      "name": "Untitled3.ipynb",
      "provenance": [],
      "include_colab_link": true
    },
    "kernelspec": {
      "name": "python3",
      "display_name": "Python 3"
    }
  },
  "cells": [
    {
      "cell_type": "markdown",
      "metadata": {
        "id": "view-in-github",
        "colab_type": "text"
      },
      "source": [
        "<a href=\"https://colab.research.google.com/github/rsradha/Binary-Classification/blob/master/image-crop.ipynb\" target=\"_parent\"><img src=\"https://colab.research.google.com/assets/colab-badge.svg\" alt=\"Open In Colab\"/></a>"
      ]
    },
    {
      "cell_type": "code",
      "metadata": {
        "id": "Ee-zItoGIPPU",
        "colab_type": "code",
        "colab": {}
      },
      "source": [
        "input_path = 'data/validation/normal'\n",
        "#train and test \n",
        "\n",
        "input_extension = 'jpg'\n",
        "\n",
        "inputs_files = sorted(get_file_name_dir(input_path, input_extension))\n",
        "\n",
        "\n",
        "print('********************* Preprocessing *************************')\n",
        "\n",
        "\n",
        "\n",
        "cont = 1\n",
        "\n",
        "for file_name in inputs_files:\n",
        "    print('Preprocessing: ' + file_name + ': ' + str(cont))\n",
        "    cont += 1\n",
        "\n",
        "    # Get the image\n",
        "    img = input_path + file_name\n",
        "    im_in = cv2.imread(img)\n",
        "\n",
        "    # Crop Image\n",
        "    image = CenterCrop(im_in)\n",
        "\n",
        "    # Save Image\n",
        "    cv2.imwrite('data/validation/DF/' + 'CenterCrop_' +file_name , image)"
      ],
      "execution_count": 0,
      "outputs": []
    }
  ]
}